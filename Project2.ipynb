{
 "cells": [
  {
   "cell_type": "markdown",
   "metadata": {},
   "source": [
    "# State Park Data Collection"
   ]
  },
  {
   "cell_type": "code",
   "execution_count": 2,
   "metadata": {},
   "outputs": [],
   "source": [
    "import os\n",
    "import requests\n",
    "import json\n",
    "import pandas as pd\n",
    "import numpy as np\n",
    "from config import NPS_key\n",
    "import pprint as pp"
   ]
  },
  {
   "cell_type": "markdown",
   "metadata": {},
   "source": [
    "Get Parks data"
   ]
  },
  {
   "cell_type": "code",
   "execution_count": 35,
   "metadata": {},
   "outputs": [
    {
     "name": "stdout",
     "output_type": "stream",
     "text": [
      "{'activities': [{'id': '13A57703-BB1A-41A2-94B8-53B692EB7238',\n",
      "                 'name': 'Astronomy'},\n",
      "                {'id': 'D37A0003-8317-4F04-8FB0-4CF0A272E195',\n",
      "                 'name': 'Stargazing'},\n",
      "                {'id': '1DFACD97-1B9C-4F5A-80F2-05593604799E', 'name': 'Food'},\n",
      "                {'id': 'C6D3230A-2CEA-4AFE-BFF3-DC1E2C2C4BB4',\n",
      "                 'name': 'Picnicking'},\n",
      "                {'id': 'DF4A35E0-7983-4A3E-BC47-F37B872B0F25',\n",
      "                 'name': 'Junior Ranger Program'},\n",
      "                {'id': '0B685688-3405-4E2A-ABBA-E3069492EC50',\n",
      "                 'name': 'Wildlife Watching'},\n",
      "                {'id': '5A2C91D1-50EC-4B24-8BED-A2E11A1892DF',\n",
      "                 'name': 'Birdwatching'},\n",
      "                {'id': '24380E3F-AD9D-4E38-BF13-C8EEB21893E7',\n",
      "                 'name': 'Shopping'},\n",
      "                {'id': '467DC8B8-0B7D-436D-A026-80A22358F615',\n",
      "                 'name': 'Bookstore and Park Store'},\n",
      "                {'id': '43800AD1-D439-40F3-AAB3-9FB651FE45BB',\n",
      "                 'name': 'Gift Shop and Souvenirs'}],\n",
      " 'addresses': [{'city': 'Hodgenville',\n",
      "                'line1': '2995 Lincoln Farm Road',\n",
      "                'line2': '',\n",
      "                'line3': '',\n",
      "                'postalCode': '42748',\n",
      "                'stateCode': 'KY',\n",
      "                'type': 'Physical'},\n",
      "               {'city': 'Hodgenville',\n",
      "                'line1': '2995 Lincoln Farm Road',\n",
      "                'line2': '',\n",
      "                'line3': '',\n",
      "                'postalCode': '42748',\n",
      "                'stateCode': 'KY',\n",
      "                'type': 'Mailing'}],\n",
      " 'contacts': {'emailAddresses': [{'description': '',\n",
      "                                  'emailAddress': 'ABLI_Administration@nps.gov'}],\n",
      "              'phoneNumbers': [{'description': '',\n",
      "                                'extension': '',\n",
      "                                'phoneNumber': '2703583137',\n",
      "                                'type': 'Voice'},\n",
      "                               {'description': '',\n",
      "                                'extension': '',\n",
      "                                'phoneNumber': '2703583874',\n",
      "                                'type': 'Fax'}]},\n",
      " 'description': 'For over a century people from around the world have come to '\n",
      "                'rural Central Kentucky to honor the humble beginnings of our '\n",
      "                \"16th president, Abraham Lincoln. His early life on Kentucky's \"\n",
      "                'frontier shaped his character and prepared him to lead the '\n",
      "                \"nation through Civil War. The country's first memorial to \"\n",
      "                'Lincoln, built with donations from young and old, enshrines '\n",
      "                'the symbolic birthplace cabin.',\n",
      " 'designation': 'National Historical Park',\n",
      " 'directionsInfo': 'The Birthplace Unit of the park is located approximately 2 '\n",
      "                   'miles south of the town of Hodgenville on U.S. Highway 31E '\n",
      "                   'South. The Boyhood Home Unit at Knob Creek is located '\n",
      "                   'approximately 10 miles northeast of the Birthplace Unit of '\n",
      "                   'the park.',\n",
      " 'directionsUrl': 'http://www.nps.gov/abli/planyourvisit/directions.htm',\n",
      " 'entranceFees': [{'cost': '0.00',\n",
      "                   'description': 'There is no fee associated with visiting '\n",
      "                                  'either unit of the park.',\n",
      "                   'title': 'Fee Free Park'}],\n",
      " 'entrancePasses': [],\n",
      " 'fees': [],\n",
      " 'fullName': 'Abraham Lincoln Birthplace National Historical Park',\n",
      " 'id': '77E0D7F0-1942-494A-ACE2-9004D2BDC59E',\n",
      " 'images': [{'altText': 'The Memorial Building surrounded by fall colors',\n",
      "             'caption': 'Over 200,000 people a year come to walk up the steps '\n",
      "                        'of the Memorial Building to visit the site where '\n",
      "                        'Abraham Lincoln was born',\n",
      "             'credit': 'NPS Photo',\n",
      "             'title': 'The Memorial Building with fall colors',\n",
      "             'url': 'https://www.nps.gov/common/uploads/structured_data/3C861078-1DD8-B71B-0B774A242EF6A706.jpg'},\n",
      "            {'altText': 'The first memorial erected to honor Abraham Lincoln',\n",
      "             'caption': 'The Memorial Building constructed on the traditional '\n",
      "                        'site of the birth of Abraham Lincoln.',\n",
      "             'credit': 'NPS Photo',\n",
      "             'title': 'The Memorial Building',\n",
      "             'url': 'https://www.nps.gov/common/uploads/structured_data/3C861263-1DD8-B71B-0B71EF9B95F9644F.jpg'},\n",
      "            {'altText': 'The symbolic birth cabin on the traditional site of '\n",
      "                        'the birth of Abraham Lincoln.',\n",
      "             'caption': 'The symbolic birth cabin of Abraham Lincoln.',\n",
      "             'credit': 'NPS Photo',\n",
      "             'title': 'The Symbolic Birth Cabin of Abraham Lincoln',\n",
      "             'url': 'https://www.nps.gov/common/uploads/structured_data/3C86137D-1DD8-B71B-0B978BACD7EBAEF1.jpg'},\n",
      "            {'altText': \"Statue of the Lincoln family in the park's Visitor \"\n",
      "                        'Center',\n",
      "             'caption': 'Visitors to the park can view the statue of the '\n",
      "                        'Lincoln family.',\n",
      "             'credit': 'NPS Photo',\n",
      "             'title': 'Statue of the Lincoln Family in the Visitor Center',\n",
      "             'url': 'https://www.nps.gov/common/uploads/structured_data/3C8614D1-1DD8-B71B-0B1AF72CA452B051.jpg'}],\n",
      " 'latLong': 'lat:37.5858662, long:-85.67330523',\n",
      " 'latitude': '37.5858662',\n",
      " 'longitude': '-85.67330523',\n",
      " 'name': 'Abraham Lincoln Birthplace',\n",
      " 'operatingHours': [{'description': 'The Memorial Building is open 9:00 am - '\n",
      "                                    '4:30 pm eastern time with a limited '\n",
      "                                    'viewing area.  The Visitor Center and '\n",
      "                                    'grounds of the Birthplace Unit are open '\n",
      "                                    '9:00 am - 5:00 pm eastern time with '\n",
      "                                    'one-way traffic flow and social '\n",
      "                                    'distancing.\\n'\n",
      "                                    '\\n'\n",
      "                                    '\\n'\n",
      "                                    'The Boyhood Home Unit at Knob Creek will '\n",
      "                                    'be closed August 3, 2020, to July 31, '\n",
      "                                    '2021, due to the Lincoln Tavern '\n",
      "                                    'Rehabilitation Project.',\n",
      "                     'exceptions': [{'endDate': '2022-01-01',\n",
      "                                     'exceptionHours': {},\n",
      "                                     'name': 'Park is Closed',\n",
      "                                     'startDate': '2022-01-01'},\n",
      "                                    {'endDate': '2021-11-25',\n",
      "                                     'exceptionHours': {},\n",
      "                                     'name': 'Park is Closed',\n",
      "                                     'startDate': '2021-11-25'},\n",
      "                                    {'endDate': '2021-12-25',\n",
      "                                     'exceptionHours': {},\n",
      "                                     'name': 'Park is Closed',\n",
      "                                     'startDate': '2021-12-25'}],\n",
      "                     'name': 'Abraham Lincoln Birthplace National Historical '\n",
      "                             'Park',\n",
      "                     'standardHours': {'friday': '9:00AM - 5:00PM',\n",
      "                                       'monday': '9:00AM - 5:00PM',\n",
      "                                       'saturday': '9:00AM - 5:00PM',\n",
      "                                       'sunday': '9:00AM - 5:00PM',\n",
      "                                       'thursday': '9:00AM - 5:00PM',\n",
      "                                       'tuesday': '9:00AM - 5:00PM',\n",
      "                                       'wednesday': '9:00AM - 5:00PM'}}],\n",
      " 'parkCode': 'abli',\n",
      " 'states': 'KY',\n",
      " 'topics': [{'id': 'D10852A3-443C-4743-A5FA-6DD6D2A054B3',\n",
      "             'name': 'Birthplace'},\n",
      "            {'id': 'F669BC40-BDC4-41C0-9ACE-B2CD25373045',\n",
      "             'name': 'Presidents'},\n",
      "            {'id': '0D00073E-18C3-46E5-8727-2F87B112DDC6', 'name': 'Animals'},\n",
      "            {'id': '957EF2BD-AC6C-4B7B-BD9A-87593ADC6691', 'name': 'Birds'},\n",
      "            {'id': 'E25F3456-43ED-45DD-93BC-057F9B944F7A',\n",
      "             'name': 'Caves, Caverns and Karst'},\n",
      "            {'id': 'F0F97E32-2F29-41B4-AF98-9FBE8DAB36B1', 'name': 'Geology'},\n",
      "            {'id': '4BE01DC5-52E6-4F18-8C9A-B22D65965F6D',\n",
      "             'name': 'Groundwater'},\n",
      "            {'id': '0E1A04CC-EB51-4F18-93D4-EC0B0B4EC1E3',\n"
     ]
    },
    {
     "name": "stdout",
     "output_type": "stream",
     "text": [
      "             'name': 'Freshwater Springs'},\n",
      "            {'id': 'A7359FC4-DAD8-45F5-AF15-7FF62F816ED3',\n",
      "             'name': 'Night Sky'}],\n",
      " 'url': 'https://www.nps.gov/abli/index.htm',\n",
      " 'weatherInfo': 'There are four distinct seasons in Central Kentucky. However, '\n",
      "                'temperature and weather conditions can vary widely within '\n",
      "                'those seasons. Spring and Fall are generally pleasant with '\n",
      "                'frequent rain showers. Summer is usually hot and humid. '\n",
      "                'Winter is moderately cold with mixed precipitation.'}\n"
     ]
    }
   ],
   "source": [
    "parks_url = \"https://developer.nps.gov/api/v1/parks?api_key=\"\n",
    "\n",
    "response = requests.get(parks_url + NPS_key)     \n",
    "data = response.json()\n",
    "parkData = data['data']\n",
    "pp.pprint(parkData[0])"
   ]
  },
  {
   "cell_type": "code",
   "execution_count": 39,
   "metadata": {},
   "outputs": [],
   "source": [
    "parks_info =[]\n",
    "for park in parkData:\n",
    "    park_info = {\n",
    "        \"name\": park['name'],\n",
    "        \"lat\": park['latitude'],\n",
    "        \"long\": park['longitude'],\n",
    "        \"states\": park['states'],\n",
    "        \"parkCode\": park['parkCode'],\n",
    "        \"images\": park['images'],\n",
    "        \"imageCnt\": len(park['images'])\n",
    "        }\n",
    "    parks_info.append(park_info) \n",
    "#parks_info"
   ]
  },
  {
   "cell_type": "markdown",
   "metadata": {},
   "source": [
    "Get activities "
   ]
  },
  {
   "cell_type": "code",
   "execution_count": 31,
   "metadata": {},
   "outputs": [],
   "source": [
    "activities_url = \"https://developer.nps.gov/api/v1/activities?api_key=\""
   ]
  },
  {
   "cell_type": "code",
   "execution_count": 45,
   "metadata": {},
   "outputs": [],
   "source": [
    "response = requests.get(activities_url + NPS_key)     \n",
    "data = response.json()\n",
    "activitiesData = data['data']\n",
    "#pp.pprint(activitiesData)"
   ]
  },
  {
   "cell_type": "code",
   "execution_count": 46,
   "metadata": {
    "scrolled": true
   },
   "outputs": [
    {
     "data": {
      "text/plain": [
       "[{'id': '09DF0950-D319-4557-A57E-04CD2F63FF42', 'name': 'Arts and Culture'},\n",
       " {'id': '13A57703-BB1A-41A2-94B8-53B692EB7238', 'name': 'Astronomy'},\n",
       " {'id': '5F723BAD-7359-48FC-98FA-631592256E35', 'name': 'Auto and ATV'},\n",
       " {'id': '7CE6E935-F839-4FEC-A63E-052B1DEF39D2', 'name': 'Biking'},\n",
       " {'id': '071BA73C-1D3C-46D4-A53C-00D5602F7F0E', 'name': 'Boating'},\n",
       " {'id': 'A59947B7-3376-49B4-AD02-C0423E08C5F7', 'name': 'Camping'},\n",
       " {'id': '07CBCA6A-46B8-413F-8B6C-ABEDEBF9853E', 'name': 'Canyoneering'},\n",
       " {'id': 'BA316D0F-92AE-4E00-8C80-DBD605DC58C3', 'name': 'Caving'},\n",
       " {'id': 'B12FAAB9-713F-4B38-83E4-A273F5A43C77', 'name': 'Climbing'},\n",
       " {'id': 'C11D3746-5063-4BD0-B245-7178D1AD866C', 'name': 'Compass and GPS'},\n",
       " {'id': '8C495067-8E94-4D78-BBD4-3379DACF6550', 'name': 'Dog Sledding'},\n",
       " {'id': 'AE42B46C-E4B7-4889-A122-08FE180371AE', 'name': 'Fishing'},\n",
       " {'id': 'D72206E4-6CD1-4441-A355-F8F1827466B1', 'name': 'Flying'},\n",
       " {'id': '1DFACD97-1B9C-4F5A-80F2-05593604799E', 'name': 'Food'},\n",
       " {'id': '3F3ABD16-2C52-4EAA-A1F6-4235DE5686F0', 'name': 'Golfing'},\n",
       " {'id': 'B33DC9B6-0B7D-4322-BAD7-A13A34C584A3', 'name': 'Guided Tours'},\n",
       " {'id': '42FD78B9-2B90-4AA9-BC43-F10E9FEA8B5A', 'name': 'Hands-On'},\n",
       " {'id': 'BFF8C027-7C8F-480B-A5F8-CD8CE490BFBA', 'name': 'Hiking'},\n",
       " {'id': '0307955A-B65C-4CE4-A780-EB36BAAADF0B', 'name': 'Horse Trekking'},\n",
       " {'id': '8386EEAF-985F-4DE8-9037-CCF91975AC94',\n",
       "  'name': 'Hunting and Gathering'},\n",
       " {'id': '5FF5B286-E9C3-430E-B612-3380D8138600', 'name': 'Ice Skating'},\n",
       " {'id': 'DF4A35E0-7983-4A3E-BC47-F37B872B0F25',\n",
       "  'name': 'Junior Ranger Program'},\n",
       " {'id': 'B204DE60-5A24-43DD-8902-C81625A09A74', 'name': 'Living History'},\n",
       " {'id': 'C8F98B28-3C10-41AE-AA99-092B3B398C43', 'name': 'Museum Exhibits'},\n",
       " {'id': '4D224BCA-C127-408B-AC75-A51563C42411', 'name': 'Paddling'},\n",
       " {'id': '0C0D142F-06B5-4BE1-8B44-491B90F93DEB', 'name': 'Park Film'},\n",
       " {'id': '7779241F-A70B-49BC-86F0-829AE332C708', 'name': 'Playground'},\n",
       " {'id': '42CF4021-8524-428E-866A-D33097A4A764', 'name': 'SCUBA Diving'},\n",
       " {'id': '24380E3F-AD9D-4E38-BF13-C8EEB21893E7', 'name': 'Shopping'},\n",
       " {'id': 'F9B1D433-6B86-4804-AED7-B50A519A3B7C', 'name': 'Skiing'},\n",
       " {'id': '3EBF7EAC-68FC-4754-B6A4-0C38A1583D45', 'name': 'Snorkeling'},\n",
       " {'id': 'C38B3C62-1BBF-4EA1-A1A2-35DE21B74C17', 'name': 'Snow Play'},\n",
       " {'id': '7C912B83-1B1B-4807-9B66-97C12211E48E', 'name': 'Snowmobiling'},\n",
       " {'id': '01D717BC-18BB-4FE4-95BA-6B13AD702038', 'name': 'Snowshoeing'},\n",
       " {'id': 'AE3C95F5-E05B-4A28-81DD-1C5FD4BE88E2', 'name': 'Surfing'},\n",
       " {'id': '587BB2D3-EC35-41B2-B3F7-A39E2B088AEE', 'name': 'Swimming'},\n",
       " {'id': '94369BFD-F186-477E-8713-AE2A745154DA', 'name': 'Team Sports'},\n",
       " {'id': '4D06CEED-90C6-4B69-B264-32CC90B69BA6', 'name': 'Tubing'},\n",
       " {'id': '8A1C7B17-C2C6-4F7C-9539-EA1E19971D80', 'name': 'Water Skiing'},\n",
       " {'id': '0B685688-3405-4E2A-ABBA-E3069492EC50', 'name': 'Wildlife Watching'}]"
      ]
     },
     "execution_count": 46,
     "metadata": {},
     "output_type": "execute_result"
    }
   ],
   "source": [
    "activities_info =[]\n",
    "for activity in activitiesData:\n",
    "    act_info = {\n",
    "        \"id\": activity['id'],\n",
    "        \"name\": activity['name']\n",
    "        }\n",
    "    activities_info.append(act_info) \n",
    "activities_info"
   ]
  },
  {
   "cell_type": "markdown",
   "metadata": {},
   "source": [
    "parks can be mapped\n",
    "dropdown can be created with the activities\n",
    "User can select an activity\n",
    "api will be called to retrieve the parks with those activities\n",
    "park markers can change based on th results of the api\n",
    "in the example below, the activity id for dog sledding is used, a list of the parks are returned"
   ]
  },
  {
   "cell_type": "code",
   "execution_count": 57,
   "metadata": {},
   "outputs": [
    {
     "data": {
      "text/plain": [
       "[{'parkCode': 'bela'},\n",
       " {'parkCode': 'dena'},\n",
       " {'parkCode': 'kefj'},\n",
       " {'parkCode': 'yuch'}]"
      ]
     },
     "execution_count": 57,
     "metadata": {},
     "output_type": "execute_result"
    }
   ],
   "source": [
    "park_act_url = \"https://developer.nps.gov/api/v1/activities/parks?id=\"\n",
    "act_id = \"8C495067-8E94-4D78-BBD4-3379DACF6550\"\n",
    "query_url = park_act_url +act_id + \"&api_key=\" + NPS_key\n",
    "response = requests.get(query_url) \n",
    "data = response.json()\n",
    "parks_w_act= data['data'][0]['parks']\n",
    "#parks_w_act\n",
    "\n",
    "park_act_info =[]\n",
    "\n",
    "for park in parks_w_act:\n",
    "    pk_info = {\n",
    "        \"parkCode\": park['parkCode']\n",
    "        }\n",
    "    park_act_info.append(pk_info) \n",
    "    \n",
    "park_act_info\n"
   ]
  },
  {
   "cell_type": "markdown",
   "metadata": {},
   "source": [
    "maybe we can also add a function that will use openweathermap api to get the current temperature at a park, or current weather conditions, or something."
   ]
  }
 ],
 "metadata": {
  "kernelspec": {
   "display_name": "Python 3",
   "language": "python",
   "name": "python3"
  },
  "language_info": {
   "codemirror_mode": {
    "name": "ipython",
    "version": 3
   },
   "file_extension": ".py",
   "mimetype": "text/x-python",
   "name": "python",
   "nbconvert_exporter": "python",
   "pygments_lexer": "ipython3",
   "version": "3.8.3"
  },
  "varInspector": {
   "cols": {
    "lenName": 16,
    "lenType": 16,
    "lenVar": 40
   },
   "kernels_config": {
    "python": {
     "delete_cmd_postfix": "",
     "delete_cmd_prefix": "del ",
     "library": "var_list.py",
     "varRefreshCmd": "print(var_dic_list())"
    },
    "r": {
     "delete_cmd_postfix": ") ",
     "delete_cmd_prefix": "rm(",
     "library": "var_list.r",
     "varRefreshCmd": "cat(var_dic_list()) "
    }
   },
   "types_to_exclude": [
    "module",
    "function",
    "builtin_function_or_method",
    "instance",
    "_Feature"
   ],
   "window_display": false
  }
 },
 "nbformat": 4,
 "nbformat_minor": 2
}
